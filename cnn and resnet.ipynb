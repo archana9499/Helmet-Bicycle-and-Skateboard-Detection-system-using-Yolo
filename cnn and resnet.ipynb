{
 "cells": [
  {
   "cell_type": "markdown",
   "id": "993015fa",
   "metadata": {},
   "source": [
    "# USING CNN"
   ]
  },
  {
   "cell_type": "code",
   "execution_count": 41,
   "id": "c40327cf",
   "metadata": {},
   "outputs": [],
   "source": [
    "import tensorflow as tf"
   ]
  },
  {
   "cell_type": "code",
   "execution_count": 65,
   "id": "8e04341e",
   "metadata": {},
   "outputs": [],
   "source": [
    "IMG_HEIGHT = 128\n",
    "IMG_WIDTH = 128\n",
    "BATCH_SIZE = 32\n",
    "NUM_CLASSES = 3"
   ]
  },
  {
   "cell_type": "code",
   "execution_count": 43,
   "id": "85aee5b2",
   "metadata": {},
   "outputs": [],
   "source": [
    "train_data = tf.keras.preprocessing.image.ImageDataGenerator(\n",
    "    rescale=1./255,\n",
    "    shear_range=0.2,\n",
    "    zoom_range=0.2,\n",
    "    fill_mode='nearest',\n",
    "    rotation_range=20,  \n",
    "    width_shift_range=0.2, \n",
    "    height_shift_range=0.2,\n",
    "    horizontal_flip=True,\n",
    ")"
   ]
  },
  {
   "cell_type": "code",
   "execution_count": 44,
   "id": "23830379",
   "metadata": {},
   "outputs": [
    {
     "name": "stdout",
     "output_type": "stream",
     "text": [
      "Found 4079 images belonging to 3 classes.\n"
     ]
    }
   ],
   "source": [
    "train_generator = train_data.flow_from_directory(\n",
    "    'train',\n",
    "    target_size=(IMG_HEIGHT, IMG_WIDTH),\n",
    "    batch_size=BATCH_SIZE,\n",
    "    class_mode='categorical'\n",
    ")"
   ]
  },
  {
   "cell_type": "code",
   "execution_count": 45,
   "id": "9d7baeaf",
   "metadata": {},
   "outputs": [],
   "source": [
    "val_data = tf.keras.preprocessing.image.ImageDataGenerator(\n",
    "    rescale=1./255,\n",
    "    shear_range=0.2,\n",
    "    zoom_range=0.2,\n",
    "    horizontal_flip=True,\n",
    "    rotation_range=20,  \n",
    "    width_shift_range=0.2, \n",
    "    height_shift_range=0.2,\n",
    "    fill_mode='nearest'\n",
    ")"
   ]
  },
  {
   "cell_type": "code",
   "execution_count": 46,
   "id": "02b2eddd",
   "metadata": {},
   "outputs": [
    {
     "name": "stdout",
     "output_type": "stream",
     "text": [
      "Found 562 images belonging to 3 classes.\n"
     ]
    }
   ],
   "source": [
    "val_generator = val_data.flow_from_directory(\n",
    "    'validation',\n",
    "    target_size=(IMG_HEIGHT, IMG_WIDTH),\n",
    "    batch_size=BATCH_SIZE,\n",
    "    class_mode='categorical'\n",
    ")"
   ]
  },
  {
   "cell_type": "code",
   "execution_count": 47,
   "id": "c829de89",
   "metadata": {},
   "outputs": [],
   "source": [
    "model = tf.keras.Sequential([\n",
    "    tf.keras.layers.Conv2D(32, (3, 3), activation='relu', input_shape=(IMG_HEIGHT, IMG_WIDTH, 3)),\n",
    "    tf.keras.layers.MaxPooling2D((2, 2)),\n",
    "    tf.keras.layers.Conv2D(64, (3, 3), activation='relu'),\n",
    "    tf.keras.layers.MaxPooling2D((2, 2)),\n",
    "    tf.keras.layers.Conv2D(64, (3, 3), activation='relu'),\n",
    "    tf.keras.layers.Flatten(),\n",
    "    tf.keras.layers.Dense(64, activation='relu'),\n",
    "    tf.keras.layers.Dense(64, activation='tanh'),\n",
    "    tf.keras.layers.Dense(64, activation='relu'),\n",
    "    tf.keras.layers.Dense(3, activation='softmax')\n",
    "])"
   ]
  },
  {
   "cell_type": "code",
   "execution_count": 51,
   "id": "64ff277b",
   "metadata": {},
   "outputs": [],
   "source": [
    "model.compile(optimizer='adam',\n",
    "              loss='categorical_crossentropy',\n",
    "              metrics=['accuracy'])"
   ]
  },
  {
   "cell_type": "code",
   "execution_count": 52,
   "id": "f163c8ff",
   "metadata": {},
   "outputs": [
    {
     "name": "stdout",
     "output_type": "stream",
     "text": [
      "Epoch 1/20\n",
      "128/128 [==============================] - 76s 581ms/step - loss: 0.8551 - accuracy: 0.6065 - val_loss: 0.8666 - val_accuracy: 0.5747\n",
      "Epoch 2/20\n",
      "128/128 [==============================] - 74s 577ms/step - loss: 0.8429 - accuracy: 0.6203 - val_loss: 0.9914 - val_accuracy: 0.5196\n",
      "Epoch 3/20\n",
      "128/128 [==============================] - 73s 570ms/step - loss: 0.8404 - accuracy: 0.6144 - val_loss: 0.8860 - val_accuracy: 0.5872\n",
      "Epoch 4/20\n",
      "128/128 [==============================] - 74s 582ms/step - loss: 0.8351 - accuracy: 0.6168 - val_loss: 0.8238 - val_accuracy: 0.6263\n",
      "Epoch 5/20\n",
      "128/128 [==============================] - 73s 571ms/step - loss: 0.8366 - accuracy: 0.6266 - val_loss: 0.8340 - val_accuracy: 0.6281\n",
      "Epoch 6/20\n",
      "128/128 [==============================] - 74s 578ms/step - loss: 0.8174 - accuracy: 0.6315 - val_loss: 0.9627 - val_accuracy: 0.5249\n",
      "Epoch 7/20\n",
      "128/128 [==============================] - 74s 576ms/step - loss: 0.8225 - accuracy: 0.6298 - val_loss: 0.8392 - val_accuracy: 0.6174\n",
      "Epoch 8/20\n",
      "128/128 [==============================] - 77s 602ms/step - loss: 0.8106 - accuracy: 0.6354 - val_loss: 0.8476 - val_accuracy: 0.6085\n",
      "Epoch 9/20\n",
      "128/128 [==============================] - 83s 647ms/step - loss: 0.8167 - accuracy: 0.6379 - val_loss: 0.9154 - val_accuracy: 0.5534\n",
      "Epoch 10/20\n",
      "128/128 [==============================] - 77s 603ms/step - loss: 0.8048 - accuracy: 0.6281 - val_loss: 0.9532 - val_accuracy: 0.5605\n",
      "Epoch 11/20\n",
      "128/128 [==============================] - 73s 573ms/step - loss: 0.7902 - accuracy: 0.6460 - val_loss: 0.8437 - val_accuracy: 0.6085\n",
      "Epoch 12/20\n",
      "128/128 [==============================] - 72s 560ms/step - loss: 0.8005 - accuracy: 0.6435 - val_loss: 0.9200 - val_accuracy: 0.5694\n",
      "Epoch 13/20\n",
      "128/128 [==============================] - 70s 547ms/step - loss: 0.7709 - accuracy: 0.6597 - val_loss: 0.7918 - val_accuracy: 0.6317\n",
      "Epoch 14/20\n",
      "128/128 [==============================] - 70s 550ms/step - loss: 0.7950 - accuracy: 0.6470 - val_loss: 0.8781 - val_accuracy: 0.5819\n",
      "Epoch 15/20\n",
      "128/128 [==============================] - 69s 535ms/step - loss: 0.7856 - accuracy: 0.6487 - val_loss: 0.8456 - val_accuracy: 0.6085\n",
      "Epoch 16/20\n",
      "128/128 [==============================] - 69s 541ms/step - loss: 0.7739 - accuracy: 0.6629 - val_loss: 0.9174 - val_accuracy: 0.6014\n",
      "Epoch 17/20\n",
      "128/128 [==============================] - 69s 541ms/step - loss: 0.7597 - accuracy: 0.6673 - val_loss: 0.9172 - val_accuracy: 0.5979\n",
      "Epoch 18/20\n",
      "128/128 [==============================] - 70s 550ms/step - loss: 0.7601 - accuracy: 0.6590 - val_loss: 0.8447 - val_accuracy: 0.5925\n",
      "Epoch 19/20\n",
      "128/128 [==============================] - 70s 549ms/step - loss: 0.7632 - accuracy: 0.6614 - val_loss: 0.8672 - val_accuracy: 0.5925\n",
      "Epoch 20/20\n",
      "128/128 [==============================] - 71s 554ms/step - loss: 0.7591 - accuracy: 0.6685 - val_loss: 0.8778 - val_accuracy: 0.5765\n"
     ]
    }
   ],
   "source": [
    "history = model.fit(\n",
    "    train_generator,\n",
    "    epochs=20,\n",
    "    validation_data=val_generator\n",
    ")"
   ]
  },
  {
   "cell_type": "code",
   "execution_count": 53,
   "id": "61958ece",
   "metadata": {},
   "outputs": [],
   "source": [
    "import numpy as np\n",
    "from PIL import Image"
   ]
  },
  {
   "cell_type": "code",
   "execution_count": 54,
   "id": "40d15e17",
   "metadata": {},
   "outputs": [],
   "source": [
    "import matplotlib.pyplot as plt"
   ]
  },
  {
   "cell_type": "code",
   "execution_count": 55,
   "id": "66616b2a",
   "metadata": {},
   "outputs": [],
   "source": [
    "test_img = Image.open('5.jpeg')\n",
    "test_img = test_img.resize((IMG_WIDTH, IMG_HEIGHT))\n",
    "test_img = np.array(test_img) / 255.0"
   ]
  },
  {
   "cell_type": "code",
   "execution_count": 56,
   "id": "8e0f6181",
   "metadata": {},
   "outputs": [],
   "source": [
    "test_img = np.expand_dims(test_img, axis=0)"
   ]
  },
  {
   "cell_type": "code",
   "execution_count": 57,
   "id": "f1722d14",
   "metadata": {},
   "outputs": [
    {
     "name": "stdout",
     "output_type": "stream",
     "text": [
      "1/1 [==============================] - 0s 90ms/step\n"
     ]
    }
   ],
   "source": [
    "predictions = model.predict(test_img)"
   ]
  },
  {
   "cell_type": "code",
   "execution_count": 58,
   "id": "ac82ebd1",
   "metadata": {},
   "outputs": [
    {
     "name": "stdout",
     "output_type": "stream",
     "text": [
      "Class is: Helmet\n"
     ]
    }
   ],
   "source": [
    "predicted_class = np.argmax(predictions)\n",
    "classes = ['Bicycle', 'Helmet', 'Skateboard'] \n",
    "predicted_label = classes[predicted_class]\n",
    "\n",
    "print(\"Class is:\", predicted_label)"
   ]
  },
  {
   "cell_type": "code",
   "execution_count": 60,
   "id": "74fe82bc",
   "metadata": {},
   "outputs": [
    {
     "data": {
      "image/png": "[encoded data removed]",
      "text/plain": [
       "<Figure size 800x400 with 2 Axes>"
      ]
     },
     "metadata": {},
     "output_type": "display_data"
    }
   ],
   "source": [
    "plt.figure(figsize=(8, 4))\n",
    "\n",
    "\n",
    "plt.subplot(1, 2, 1)\n",
    "plt.plot(history.history['accuracy'])\n",
    "plt.plot(history.history['val_accuracy'])\n",
    "plt.title('Model accuracy')\n",
    "plt.ylabel('Accuracy')\n",
    "plt.xlabel('Epoch')\n",
    "plt.legend(['Train', 'Validation'], loc='upper left')\n",
    "\n",
    "\n",
    "plt.subplot(1, 2, 2)\n",
    "plt.plot(history.history['loss'])\n",
    "plt.plot(history.history['val_loss'])\n",
    "plt.title('Model loss')\n",
    "plt.ylabel('Loss')\n",
    "plt.xlabel('Epoch')\n",
    "plt.legend(['Train', 'Validation'], loc='upper left')\n",
    "\n",
    "plt.tight_layout()\n",
    "plt.show()"
   ]
  },
  {
   "cell_type": "code",
   "execution_count": 61,
   "id": "04fb1fc2",
   "metadata": {},
   "outputs": [
    {
     "name": "stdout",
     "output_type": "stream",
     "text": [
      "Model: \"sequential_2\"\n",
      "_________________________________________________________________\n",
      " Layer (type)                Output Shape              Param #   \n",
      "=================================================================\n",
      " conv2d_6 (Conv2D)           (None, 126, 126, 32)      896       \n",
      "                                                                 \n",
      " max_pooling2d_4 (MaxPoolin  (None, 63, 63, 32)        0         \n",
      " g2D)                                                            \n",
      "                                                                 \n",
      " conv2d_7 (Conv2D)           (None, 61, 61, 64)        18496     \n",
      "                                                                 \n",
      " max_pooling2d_5 (MaxPoolin  (None, 30, 30, 64)        0         \n",
      " g2D)                                                            \n",
      "                                                                 \n",
      " conv2d_8 (Conv2D)           (None, 28, 28, 64)        36928     \n",
      "                                                                 \n",
      " flatten_2 (Flatten)         (None, 50176)             0         \n",
      "                                                                 \n",
      " dense_8 (Dense)             (None, 64)                3211328   \n",
      "                                                                 \n",
      " dense_9 (Dense)             (None, 64)                4160      \n",
      "                                                                 \n",
      " dense_10 (Dense)            (None, 64)                4160      \n",
      "                                                                 \n",
      " dense_11 (Dense)            (None, 3)                 195       \n",
      "                                                                 \n",
      "=================================================================\n",
      "Total params: 3276163 (12.50 MB)\n",
      "Trainable params: 3276163 (12.50 MB)\n",
      "Non-trainable params: 0 (0.00 Byte)\n",
      "_________________________________________________________________\n"
     ]
    }
   ],
   "source": [
    "model.summary()"
   ]
  },
  {
   "cell_type": "markdown",
   "id": "a0e6f667",
   "metadata": {},
   "source": [
    "# USING ResNET"
   ]
  },
  {
   "cell_type": "code",
   "execution_count": 62,
   "id": "3de7a860",
   "metadata": {},
   "outputs": [],
   "source": [
    "from tensorflow.keras import layers, models"
   ]
  },
  {
   "cell_type": "code",
   "execution_count": 63,
   "id": "47b6a4c8",
   "metadata": {},
   "outputs": [],
   "source": [
    "def res_block(x, filters, kernel_size=3, strides=1, activation='relu'):\n",
    "\n",
    "    y = layers.Conv2D(filters, kernel_size, strides=strides, padding='same')(x)\n",
    "    y = layers.BatchNormalization()(y)\n",
    "    y = layers.Activation(activation)(y)\n",
    "    \n",
    "    y = layers.Conv2D(filters, kernel_size, padding='same')(y)\n",
    "    y = layers.BatchNormalization()(y)\n",
    "    \n",
    "    if strides != 1 or x.shape[-1] != filters:\n",
    "        shortcut = layers.Conv2D(filters, 1, strides=strides, padding='same')(x)\n",
    "        shortcut = layers.BatchNormalization()(shortcut)\n",
    "    else:\n",
    "        shortcut = x\n",
    "    \n",
    "    y = layers.add([y, shortcut])\n",
    "    y = layers.Activation(activation)(y)\n",
    "    return y"
   ]
  },
  {
   "cell_type": "code",
   "execution_count": 64,
   "id": "14e41e0b",
   "metadata": {},
   "outputs": [],
   "source": [
    "def resnet(input_shape=(128, 128, 3), num_classes=3):\n",
    "\n",
    "    inputs = layers.Input(shape=input_shape)\n",
    "    \n",
    "    x = layers.Conv2D(64, 7, strides=2, padding='same')(inputs)\n",
    "    x = layers.BatchNormalization()(x)\n",
    "    x = layers.Activation('relu')(x)\n",
    "    x = layers.MaxPooling2D(pool_size=3, strides=2, padding='same')(x)\n",
    "    \n",
    "    x = res_block(x, 64, strides=1)\n",
    "    x = res_block(x, 64, strides=1)\n",
    "    x = res_block(x, 128, strides=2)\n",
    "    x = res_block(x, 128, strides=1)\n",
    "    x = res_block(x, 256, strides=2)\n",
    "    x = res_block(x, 256, strides=1)\n",
    "    x = res_block(x, 512, strides=2)\n",
    "    x = res_block(x, 512, strides=1)\n",
    "    \n",
    "   \n",
    "    x = layers.GlobalAveragePooling2D()(x)\n",
    "    \n",
    "    outputs = layers.Dense(num_classes, activation='softmax')(x)\n",
    "    \n",
    "    model = tf.keras.Model(inputs, outputs)\n",
    "    return model"
   ]
  },
  {
   "cell_type": "code",
   "execution_count": 66,
   "id": "0757952d",
   "metadata": {},
   "outputs": [],
   "source": [
    "train_data_dir = 'train'\n",
    "val_data_dir = 'validation'"
   ]
  },
  {
   "cell_type": "code",
   "execution_count": 68,
   "id": "fd3c219a",
   "metadata": {},
   "outputs": [],
   "source": [
    "resnet_model = resnet(input_shape=(IMG_HEIGHT, IMG_WIDTH, 3), num_classes=NUM_CLASSES)"
   ]
  },
  {
   "cell_type": "code",
   "execution_count": 69,
   "id": "8c5c2154",
   "metadata": {},
   "outputs": [],
   "source": [
    "resnet_model.compile(optimizer='adam',\n",
    "                     loss='categorical_crossentropy',\n",
    "                     metrics=['accuracy'])"
   ]
  },
  {
   "cell_type": "code",
   "execution_count": 70,
   "id": "fee32eac",
   "metadata": {},
   "outputs": [
    {
     "name": "stdout",
     "output_type": "stream",
     "text": [
      "Model: \"model\"\n",
      "__________________________________________________________________________________________________\n",
      " Layer (type)                Output Shape                 Param #   Connected to                  \n",
      "==================================================================================================\n",
      " input_1 (InputLayer)        [(None, 128, 128, 3)]        0         []                            \n",
      "                                                                                                  \n",
      " conv2d_9 (Conv2D)           (None, 64, 64, 64)           9472      ['input_1[0][0]']             \n",
      "                                                                                                  \n",
      " batch_normalization (Batch  (None, 64, 64, 64)           256       ['conv2d_9[0][0]']            \n",
      " Normalization)                                                                                   \n",
      "                                                                                                  \n",
      " activation (Activation)     (None, 64, 64, 64)           0         ['batch_normalization[0][0]'] \n",
      "                                                                                                  \n",
      " max_pooling2d_6 (MaxPoolin  (None, 32, 32, 64)           0         ['activation[0][0]']          \n",
      " g2D)                                                                                             \n",
      "                                                                                                  \n",
      " conv2d_10 (Conv2D)          (None, 32, 32, 64)           36928     ['max_pooling2d_6[0][0]']     \n",
      "                                                                                                  \n",
      " batch_normalization_1 (Bat  (None, 32, 32, 64)           256       ['conv2d_10[0][0]']           \n",
      " chNormalization)                                                                                 \n",
      "                                                                                                  \n",
      " activation_1 (Activation)   (None, 32, 32, 64)           0         ['batch_normalization_1[0][0]'\n",
      "                                                                    ]                             \n",
      "                                                                                                  \n",
      " conv2d_11 (Conv2D)          (None, 32, 32, 64)           36928     ['activation_1[0][0]']        \n",
      "                                                                                                  \n",
      " batch_normalization_2 (Bat  (None, 32, 32, 64)           256       ['conv2d_11[0][0]']           \n",
      " chNormalization)                                                                                 \n",
      "                                                                                                  \n",
      " add (Add)                   (None, 32, 32, 64)           0         ['batch_normalization_2[0][0]'\n",
      "                                                                    , 'max_pooling2d_6[0][0]']    \n",
      "                                                                                                  \n",
      " activation_2 (Activation)   (None, 32, 32, 64)           0         ['add[0][0]']                 \n",
      "                                                                                                  \n",
      " conv2d_12 (Conv2D)          (None, 32, 32, 64)           36928     ['activation_2[0][0]']        \n",
      "                                                                                                  \n",
      " batch_normalization_3 (Bat  (None, 32, 32, 64)           256       ['conv2d_12[0][0]']           \n",
      " chNormalization)                                                                                 \n",
      "                                                                                                  \n",
      " activation_3 (Activation)   (None, 32, 32, 64)           0         ['batch_normalization_3[0][0]'\n",
      "                                                                    ]                             \n",
      "                                                                                                  \n",
      " conv2d_13 (Conv2D)          (None, 32, 32, 64)           36928     ['activation_3[0][0]']        \n",
      "                                                                                                  \n",
      " batch_normalization_4 (Bat  (None, 32, 32, 64)           256       ['conv2d_13[0][0]']           \n",
      " chNormalization)                                                                                 \n",
      "                                                                                                  \n",
      " add_1 (Add)                 (None, 32, 32, 64)           0         ['batch_normalization_4[0][0]'\n",
      "                                                                    , 'activation_2[0][0]']       \n",
      "                                                                                                  \n",
      " activation_4 (Activation)   (None, 32, 32, 64)           0         ['add_1[0][0]']               \n",
      "                                                                                                  \n",
      " conv2d_14 (Conv2D)          (None, 16, 16, 128)          73856     ['activation_4[0][0]']        \n",
      "                                                                                                  \n",
      " batch_normalization_5 (Bat  (None, 16, 16, 128)          512       ['conv2d_14[0][0]']           \n",
      " chNormalization)                                                                                 \n",
      "                                                                                                  \n",
      " activation_5 (Activation)   (None, 16, 16, 128)          0         ['batch_normalization_5[0][0]'\n",
      "                                                                    ]                             \n",
      "                                                                                                  \n",
      " conv2d_15 (Conv2D)          (None, 16, 16, 128)          147584    ['activation_5[0][0]']        \n",
      "                                                                                                  \n",
      " conv2d_16 (Conv2D)          (None, 16, 16, 128)          8320      ['activation_4[0][0]']        \n",
      "                                                                                                  \n",
      " batch_normalization_6 (Bat  (None, 16, 16, 128)          512       ['conv2d_15[0][0]']           \n",
      " chNormalization)                                                                                 \n",
      "                                                                                                  \n",
      " batch_normalization_7 (Bat  (None, 16, 16, 128)          512       ['conv2d_16[0][0]']           \n",
      " chNormalization)                                                                                 \n",
      "                                                                                                  \n",
      " add_2 (Add)                 (None, 16, 16, 128)          0         ['batch_normalization_6[0][0]'\n",
      "                                                                    , 'batch_normalization_7[0][0]\n",
      "                                                                    ']                            \n",
      "                                                                                                  \n",
      " activation_6 (Activation)   (None, 16, 16, 128)          0         ['add_2[0][0]']               \n",
      "                                                                                                  \n",
      " conv2d_17 (Conv2D)          (None, 16, 16, 128)          147584    ['activation_6[0][0]']        \n",
      "                                                                                                  \n",
      " batch_normalization_8 (Bat  (None, 16, 16, 128)          512       ['conv2d_17[0][0]']           \n",
      " chNormalization)                                                                                 \n",
      "                                                                                                  \n",
      " activation_7 (Activation)   (None, 16, 16, 128)          0         ['batch_normalization_8[0][0]'\n",
      "                                                                    ]                             \n",
      "                                                                                                  \n",
      " conv2d_18 (Conv2D)          (None, 16, 16, 128)          147584    ['activation_7[0][0]']        \n",
      "                                                                                                  \n",
      " batch_normalization_9 (Bat  (None, 16, 16, 128)          512       ['conv2d_18[0][0]']           \n",
      " chNormalization)                                                                                 \n",
      "                                                                                                  \n",
      " add_3 (Add)                 (None, 16, 16, 128)          0         ['batch_normalization_9[0][0]'\n",
      "                                                                    , 'activation_6[0][0]']       \n",
      "                                                                                                  \n",
      " activation_8 (Activation)   (None, 16, 16, 128)          0         ['add_3[0][0]']               \n",
      "                                                                                                  \n",
      " conv2d_19 (Conv2D)          (None, 8, 8, 256)            295168    ['activation_8[0][0]']        \n",
      "                                                                                                  \n",
      " batch_normalization_10 (Ba  (None, 8, 8, 256)            1024      ['conv2d_19[0][0]']           \n",
      " tchNormalization)                                                                                \n",
      "                                                                                                  \n",
      " activation_9 (Activation)   (None, 8, 8, 256)            0         ['batch_normalization_10[0][0]\n",
      "                                                                    ']                            \n",
      "                                                                                                  \n",
      " conv2d_20 (Conv2D)          (None, 8, 8, 256)            590080    ['activation_9[0][0]']        \n",
      "                                                                                                  \n",
      " conv2d_21 (Conv2D)          (None, 8, 8, 256)            33024     ['activation_8[0][0]']        \n",
      "                                                                                                  \n",
      " batch_normalization_11 (Ba  (None, 8, 8, 256)            1024      ['conv2d_20[0][0]']           \n",
      " tchNormalization)                                                                                \n",
      "                                                                                                  \n",
      " batch_normalization_12 (Ba  (None, 8, 8, 256)            1024      ['conv2d_21[0][0]']           \n",
      " tchNormalization)                                                                                \n",
      "                                                                                                  \n",
      " add_4 (Add)                 (None, 8, 8, 256)            0         ['batch_normalization_11[0][0]\n",
      "                                                                    ',                            \n",
      "                                                                     'batch_normalization_12[0][0]\n",
      "                                                                    ']                            \n",
      "                                                                                                  \n",
      " activation_10 (Activation)  (None, 8, 8, 256)            0         ['add_4[0][0]']               \n",
      "                                                                                                  \n",
      " conv2d_22 (Conv2D)          (None, 8, 8, 256)            590080    ['activation_10[0][0]']       \n",
      "                                                                                                  \n",
      " batch_normalization_13 (Ba  (None, 8, 8, 256)            1024      ['conv2d_22[0][0]']           \n",
      " tchNormalization)                                                                                \n",
      "                                                                                                  \n",
      " activation_11 (Activation)  (None, 8, 8, 256)            0         ['batch_normalization_13[0][0]\n",
      "                                                                    ']                            \n",
      "                                                                                                  \n",
      " conv2d_23 (Conv2D)          (None, 8, 8, 256)            590080    ['activation_11[0][0]']       \n",
      "                                                                                                  \n",
      " batch_normalization_14 (Ba  (None, 8, 8, 256)            1024      ['conv2d_23[0][0]']           \n",
      " tchNormalization)                                                                                \n",
      "                                                                                                  \n",
      " add_5 (Add)                 (None, 8, 8, 256)            0         ['batch_normalization_14[0][0]\n",
      "                                                                    ',                            \n",
      "                                                                     'activation_10[0][0]']       \n",
      "                                                                                                  \n",
      " activation_12 (Activation)  (None, 8, 8, 256)            0         ['add_5[0][0]']               \n",
      "                                                                                                  \n",
      " conv2d_24 (Conv2D)          (None, 4, 4, 512)            1180160   ['activation_12[0][0]']       \n",
      "                                                                                                  \n",
      " batch_normalization_15 (Ba  (None, 4, 4, 512)            2048      ['conv2d_24[0][0]']           \n",
      " tchNormalization)                                                                                \n",
      "                                                                                                  \n",
      " activation_13 (Activation)  (None, 4, 4, 512)            0         ['batch_normalization_15[0][0]\n",
      "                                                                    ']                            \n",
      "                                                                                                  \n",
      " conv2d_25 (Conv2D)          (None, 4, 4, 512)            2359808   ['activation_13[0][0]']       \n",
      "                                                                                                  \n",
      " conv2d_26 (Conv2D)          (None, 4, 4, 512)            131584    ['activation_12[0][0]']       \n",
      "                                                                                                  \n",
      " batch_normalization_16 (Ba  (None, 4, 4, 512)            2048      ['conv2d_25[0][0]']           \n",
      " tchNormalization)                                                                                \n",
      "                                                                                                  \n",
      " batch_normalization_17 (Ba  (None, 4, 4, 512)            2048      ['conv2d_26[0][0]']           \n",
      " tchNormalization)                                                                                \n",
      "                                                                                                  \n",
      " add_6 (Add)                 (None, 4, 4, 512)            0         ['batch_normalization_16[0][0]\n",
      "                                                                    ',                            \n",
      "                                                                     'batch_normalization_17[0][0]\n",
      "                                                                    ']                            \n",
      "                                                                                                  \n",
      " activation_14 (Activation)  (None, 4, 4, 512)            0         ['add_6[0][0]']               \n",
      "                                                                                                  \n",
      " conv2d_27 (Conv2D)          (None, 4, 4, 512)            2359808   ['activation_14[0][0]']       \n",
      "                                                                                                  \n",
      " batch_normalization_18 (Ba  (None, 4, 4, 512)            2048      ['conv2d_27[0][0]']           \n",
      " tchNormalization)                                                                                \n",
      "                                                                                                  \n",
      " activation_15 (Activation)  (None, 4, 4, 512)            0         ['batch_normalization_18[0][0]\n",
      "                                                                    ']                            \n",
      "                                                                                                  \n",
      " conv2d_28 (Conv2D)          (None, 4, 4, 512)            2359808   ['activation_15[0][0]']       \n",
      "                                                                                                  \n",
      " batch_normalization_19 (Ba  (None, 4, 4, 512)            2048      ['conv2d_28[0][0]']           \n",
      " tchNormalization)                                                                                \n",
      "                                                                                                  \n",
      " add_7 (Add)                 (None, 4, 4, 512)            0         ['batch_normalization_19[0][0]\n",
      "                                                                    ',                            \n",
      "                                                                     'activation_14[0][0]']       \n",
      "                                                                                                  \n",
      " activation_16 (Activation)  (None, 4, 4, 512)            0         ['add_7[0][0]']               \n",
      "                                                                                                  \n",
      " global_average_pooling2d (  (None, 512)                  0         ['activation_16[0][0]']       \n",
      " GlobalAveragePooling2D)                                                                          \n",
      "                                                                                                  \n",
      " dense_12 (Dense)            (None, 3)                    1539      ['global_average_pooling2d[0][\n",
      "                                                                    0]']                          \n",
      "                                                                                                  \n",
      "==================================================================================================\n",
      "Total params: 11192451 (42.70 MB)\n",
      "Trainable params: 11182851 (42.66 MB)\n",
      "Non-trainable params: 9600 (37.50 KB)\n",
      "__________________________________________________________________________________________________\n"
     ]
    }
   ],
   "source": [
    "resnet_model.summary()"
   ]
  },
  {
   "cell_type": "code",
   "execution_count": 71,
   "id": "78a3cddc",
   "metadata": {},
   "outputs": [],
   "source": [
    "train_data = tf.keras.preprocessing.image.ImageDataGenerator(\n",
    "    rescale=1./255,\n",
    "    rotation_range=20, \n",
    "    width_shift_range=0.2,\n",
    "    height_shift_range=0.2,\n",
    "    shear_range=0.2, \n",
    "    zoom_range=0.2, \n",
    "    horizontal_flip=True, \n",
    "    fill_mode='nearest'\n",
    ")"
   ]
  },
  {
   "cell_type": "code",
   "execution_count": 72,
   "id": "f00835ee",
   "metadata": {},
   "outputs": [
    {
     "name": "stdout",
     "output_type": "stream",
     "text": [
      "Found 4079 images belonging to 3 classes.\n"
     ]
    }
   ],
   "source": [
    "train_generator = train_data.flow_from_directory(\n",
    "    train_data_dir,\n",
    "    target_size=(IMG_HEIGHT, IMG_WIDTH),\n",
    "    batch_size=BATCH_SIZE,\n",
    "    class_mode='categorical'\n",
    ")"
   ]
  },
  {
   "cell_type": "code",
   "execution_count": 73,
   "id": "92a119c6",
   "metadata": {},
   "outputs": [],
   "source": [
    "val_data = tf.keras.preprocessing.image.ImageDataGenerator(\n",
    "    rescale=1./255,\n",
    "    rotation_range=20, \n",
    "    width_shift_range=0.2,\n",
    "    height_shift_range=0.2,\n",
    "    shear_range=0.2, \n",
    "    zoom_range=0.2, \n",
    "    horizontal_flip=True, \n",
    "    fill_mode='nearest'\n",
    ")"
   ]
  },
  {
   "cell_type": "code",
   "execution_count": 74,
   "id": "3ae2987a",
   "metadata": {},
   "outputs": [
    {
     "name": "stdout",
     "output_type": "stream",
     "text": [
      "Found 562 images belonging to 3 classes.\n"
     ]
    }
   ],
   "source": [
    "val_generator = val_data.flow_from_directory(\n",
    "    val_data_dir,\n",
    "    target_size=(IMG_HEIGHT, IMG_WIDTH),\n",
    "    batch_size=BATCH_SIZE,\n",
    "    class_mode='categorical'\n",
    ")"
   ]
  },
  {
   "cell_type": "code",
   "execution_count": 76,
   "id": "0a50a310",
   "metadata": {},
   "outputs": [
    {
     "name": "stdout",
     "output_type": "stream",
     "text": [
      "Epoch 1/20\n",
      "128/128 [==============================] - 104s 815ms/step - loss: 0.8241 - accuracy: 0.6301 - val_loss: 1.4489 - val_accuracy: 0.4573\n",
      "Epoch 2/20\n",
      "128/128 [==============================] - 109s 852ms/step - loss: 0.8105 - accuracy: 0.6384 - val_loss: 0.7987 - val_accuracy: 0.6548\n",
      "Epoch 3/20\n",
      "128/128 [==============================] - 109s 853ms/step - loss: 0.8198 - accuracy: 0.6330 - val_loss: 1.1055 - val_accuracy: 0.4270\n",
      "Epoch 4/20\n",
      "128/128 [==============================] - 112s 876ms/step - loss: 0.8294 - accuracy: 0.6259 - val_loss: 1.4959 - val_accuracy: 0.3986\n",
      "Epoch 5/20\n",
      "128/128 [==============================] - 113s 884ms/step - loss: 0.8034 - accuracy: 0.6467 - val_loss: 0.9908 - val_accuracy: 0.5854\n",
      "Epoch 6/20\n",
      "128/128 [==============================] - 118s 917ms/step - loss: 0.8080 - accuracy: 0.6396 - val_loss: 0.9863 - val_accuracy: 0.5641\n",
      "Epoch 7/20\n",
      "128/128 [==============================] - 106s 828ms/step - loss: 0.7954 - accuracy: 0.6487 - val_loss: 1.1276 - val_accuracy: 0.4662\n",
      "Epoch 8/20\n",
      "128/128 [==============================] - 104s 815ms/step - loss: 0.7760 - accuracy: 0.6634 - val_loss: 1.9361 - val_accuracy: 0.3559\n",
      "Epoch 9/20\n",
      "128/128 [==============================] - 105s 820ms/step - loss: 0.7695 - accuracy: 0.6506 - val_loss: 2.0406 - val_accuracy: 0.3523\n",
      "Epoch 10/20\n",
      "128/128 [==============================] - 109s 852ms/step - loss: 0.7830 - accuracy: 0.6533 - val_loss: 1.2884 - val_accuracy: 0.5142\n",
      "Epoch 11/20\n",
      "128/128 [==============================] - 105s 818ms/step - loss: 0.7762 - accuracy: 0.6651 - val_loss: 0.8155 - val_accuracy: 0.6352\n",
      "Epoch 12/20\n",
      "128/128 [==============================] - 104s 809ms/step - loss: 0.7523 - accuracy: 0.6761 - val_loss: 1.1871 - val_accuracy: 0.5374\n",
      "Epoch 13/20\n",
      "128/128 [==============================] - 107s 831ms/step - loss: 0.7376 - accuracy: 0.6813 - val_loss: 0.7409 - val_accuracy: 0.6619\n",
      "Epoch 14/20\n",
      "128/128 [==============================] - 102s 796ms/step - loss: 0.7460 - accuracy: 0.6730 - val_loss: 1.3868 - val_accuracy: 0.4093\n",
      "Epoch 15/20\n",
      "128/128 [==============================] - 101s 785ms/step - loss: 0.7372 - accuracy: 0.6842 - val_loss: 0.7216 - val_accuracy: 0.6228\n",
      "Epoch 16/20\n",
      "128/128 [==============================] - 103s 807ms/step - loss: 0.7266 - accuracy: 0.6877 - val_loss: 0.8859 - val_accuracy: 0.6246\n",
      "Epoch 17/20\n",
      "128/128 [==============================] - 108s 842ms/step - loss: 0.7279 - accuracy: 0.6835 - val_loss: 0.8848 - val_accuracy: 0.6210\n",
      "Epoch 18/20\n",
      "128/128 [==============================] - 107s 836ms/step - loss: 0.7086 - accuracy: 0.6953 - val_loss: 0.8515 - val_accuracy: 0.5961\n",
      "Epoch 19/20\n",
      "128/128 [==============================] - 104s 810ms/step - loss: 0.7237 - accuracy: 0.6847 - val_loss: 0.8609 - val_accuracy: 0.6032\n",
      "Epoch 20/20\n",
      "128/128 [==============================] - 104s 814ms/step - loss: 0.7019 - accuracy: 0.7041 - val_loss: 1.5423 - val_accuracy: 0.4733\n"
     ]
    }
   ],
   "source": [
    "history2 = resnet_model.fit(\n",
    "    train_generator,\n",
    "    epochs=20,\n",
    "    validation_data=val_generator\n",
    ")"
   ]
  },
  {
   "cell_type": "code",
   "execution_count": 78,
   "id": "7d96eb61",
   "metadata": {},
   "outputs": [],
   "source": [
    "from tensorflow.keras.preprocessing import image"
   ]
  },
  {
   "cell_type": "code",
   "execution_count": 79,
   "id": "f5c85db4",
   "metadata": {},
   "outputs": [],
   "source": [
    "class_names = ['bicycle', 'helmet', 'skateboard'] \n",
    "test_image_path = 'test_image4.jpg'\n",
    "test_image = image.load_img(test_image_path, target_size=(IMG_HEIGHT, IMG_WIDTH))\n",
    "test_image_array = image.img_to_array(test_image)\n",
    "test_image_array = np.expand_dims(test_image_array, axis=0)"
   ]
  },
  {
   "cell_type": "code",
   "execution_count": 80,
   "id": "e6d1d36b",
   "metadata": {},
   "outputs": [],
   "source": [
    "test_image_array /= 255.0"
   ]
  },
  {
   "cell_type": "code",
   "execution_count": 81,
   "id": "303e2826",
   "metadata": {},
   "outputs": [
    {
     "name": "stdout",
     "output_type": "stream",
     "text": [
      "1/1 [==============================] - 0s 454ms/step\n"
     ]
    }
   ],
   "source": [
    "predictions = resnet_model.predict(test_image_array)"
   ]
  },
  {
   "cell_type": "code",
   "execution_count": 82,
   "id": "2c386a12",
   "metadata": {},
   "outputs": [
    {
     "name": "stdout",
     "output_type": "stream",
     "text": [
      "Predicted class: bicycle\n",
      "Confidence: 0.91\n"
     ]
    }
   ],
   "source": [
    "pred_class_index = np.argmax(predictions[0])\n",
    "pred_class = class_names[pred_class_index]\n",
    "conf = predictions[0][pred_class_index]\n",
    "\n",
    "print(f\"Predicted class: {pred_class}\")\n",
    "print(f\"Confidence: {conf:.2f}\")"
   ]
  },
  {
   "cell_type": "code",
   "execution_count": 83,
   "id": "663e680e",
   "metadata": {},
   "outputs": [
    {
     "data": {
      "image/png": "[encoded data removed]",
      "text/plain": [
       "<Figure size 800x400 with 2 Axes>"
      ]
     },
     "metadata": {},
     "output_type": "display_data"
    }
   ],
   "source": [
    "plt.figure(figsize=(8, 4))\n",
    "\n",
    "plt.subplot(1, 2, 1)\n",
    "plt.plot(history2.history['accuracy'])\n",
    "plt.plot(history2.history['val_accuracy'])\n",
    "plt.title('Model accuracy')\n",
    "plt.ylabel('Accuracy')\n",
    "plt.xlabel('Epoch')\n",
    "plt.legend(['Train', 'Validation'], loc='upper left')\n",
    "\n",
    "plt.subplot(1, 2, 2)\n",
    "plt.plot(history2.history['loss'])\n",
    "plt.plot(history2.history['val_loss'])\n",
    "plt.title('Model loss')\n",
    "plt.ylabel('Loss')\n",
    "plt.xlabel('Epoch')\n",
    "plt.legend(['Train', 'Validation'], loc='upper left')\n",
    "\n",
    "plt.tight_layout()\n",
    "plt.show()"
   ]
  },
  {
   "cell_type": "code",
   "execution_count": null,
   "id": "64306117",
   "metadata": {},
   "outputs": [],
   "source": []
  }
 ],
 "metadata": {
  "kernelspec": {
   "display_name": "Python 3 (ipykernel)",
   "language": "python",
   "name": "python3"
  },
  "language_info": {
   "codemirror_mode": {
    "name": "ipython",
    "version": 3
   },
   "file_extension": ".py",
   "mimetype": "text/x-python",
   "name": "python",
   "nbconvert_exporter": "python",
   "pygments_lexer": "ipython3",
   "version": "3.11.5"
  }
 },
 "nbformat": 4,
 "nbformat_minor": 5
}
